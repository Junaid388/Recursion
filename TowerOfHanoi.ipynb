{
 "cells": [
  {
   "cell_type": "code",
   "execution_count": 2,
   "metadata": {},
   "outputs": [],
   "source": [
    "def Move(f,t):\n",
    "    print(\"Move disc from {} to {}!\".format(f,t))"
   ]
  },
  {
   "cell_type": "code",
   "execution_count": 3,
   "metadata": {},
   "outputs": [
    {
     "name": "stdout",
     "output_type": "stream",
     "text": [
      "Move disc from A to C!\n"
     ]
    }
   ],
   "source": [
    "Move(\"A\",\"C\")"
   ]
  },
  {
   "cell_type": "code",
   "execution_count": 4,
   "metadata": {},
   "outputs": [],
   "source": [
    "def MoveVia(f,v,t):\n",
    "    Move(f,v)\n",
    "    Move(v,t)"
   ]
  },
  {
   "cell_type": "code",
   "execution_count": 5,
   "metadata": {},
   "outputs": [
    {
     "name": "stdout",
     "output_type": "stream",
     "text": [
      "Move disc from A to B!\n",
      "Move disc from B to C!\n"
     ]
    }
   ],
   "source": [
    "MoveVia(\"A\",\"B\",\"C\")"
   ]
  },
  {
   "cell_type": "code",
   "execution_count": 8,
   "metadata": {},
   "outputs": [],
   "source": [
    "def Hanoi(n,f,h,t):# no.of disc, from, helper, to\n",
    "    if n==0:\n",
    "        pass\n",
    "    else:\n",
    "        Hanoi(n-1,f,t,h)\n",
    "        Move(f,t)\n",
    "        Hanoi(n-1,h,f,t)"
   ]
  },
  {
   "cell_type": "code",
   "execution_count": 9,
   "metadata": {},
   "outputs": [
    {
     "name": "stdout",
     "output_type": "stream",
     "text": [
      "Move disc from A to B!\n",
      "Move disc from A to C!\n",
      "Move disc from B to C!\n",
      "Move disc from A to B!\n",
      "Move disc from C to A!\n",
      "Move disc from C to B!\n",
      "Move disc from A to B!\n",
      "Move disc from A to C!\n",
      "Move disc from B to C!\n",
      "Move disc from B to A!\n",
      "Move disc from C to A!\n",
      "Move disc from B to C!\n",
      "Move disc from A to B!\n",
      "Move disc from A to C!\n",
      "Move disc from B to C!\n"
     ]
    }
   ],
   "source": [
    "Hanoi(4,\"A\",\"B\",\"C\")"
   ]
  },
  {
   "cell_type": "code",
   "execution_count": null,
   "metadata": {},
   "outputs": [],
   "source": []
  }
 ],
 "metadata": {
  "kernelspec": {
   "display_name": "Python 3",
   "language": "python",
   "name": "python3"
  },
  "language_info": {
   "codemirror_mode": {
    "name": "ipython",
    "version": 3
   },
   "file_extension": ".py",
   "mimetype": "text/x-python",
   "name": "python",
   "nbconvert_exporter": "python",
   "pygments_lexer": "ipython3",
   "version": "3.6.6"
  }
 },
 "nbformat": 4,
 "nbformat_minor": 2
}
